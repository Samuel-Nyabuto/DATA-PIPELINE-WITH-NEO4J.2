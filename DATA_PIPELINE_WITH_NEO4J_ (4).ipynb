{
  "nbformat": 4,
  "nbformat_minor": 0,
  "metadata": {
    "colab": {
      "provenance": []
    },
    "kernelspec": {
      "name": "python3",
      "display_name": "Python 3"
    },
    "language_info": {
      "name": "python"
    }
  },
  "cells": [
    {
      "cell_type": "code",
      "source": [
        "!pip install neo4j"
      ],
      "metadata": {
        "colab": {
          "base_uri": "https://localhost:8080/"
        },
        "id": "rkkAEHy2WoLx",
        "outputId": "f36e45c4-78df-45ae-b300-9adb6fbf7d3b"
      },
      "execution_count": null,
      "outputs": [
        {
          "output_type": "stream",
          "name": "stdout",
          "text": [
            "Looking in indexes: https://pypi.org/simple, https://us-python.pkg.dev/colab-wheels/public/simple/\n",
            "Requirement already satisfied: neo4j in /usr/local/lib/python3.9/dist-packages (5.7.0)\n",
            "Requirement already satisfied: pytz in /usr/local/lib/python3.9/dist-packages (from neo4j) (2022.7.1)\n"
          ]
        }
      ]
    },
    {
      "cell_type": "code",
      "source": [
        "!pip install psycopg2"
      ],
      "metadata": {
        "colab": {
          "base_uri": "https://localhost:8080/"
        },
        "id": "sbl3sYcjWqcV",
        "outputId": "6e9cb647-0bf7-489e-a30d-f32ed750d096"
      },
      "execution_count": null,
      "outputs": [
        {
          "output_type": "stream",
          "name": "stdout",
          "text": [
            "Looking in indexes: https://pypi.org/simple, https://us-python.pkg.dev/colab-wheels/public/simple/\n",
            "Requirement already satisfied: psycopg2 in /usr/local/lib/python3.9/dist-packages (2.9.6)\n"
          ]
        }
      ]
    },
    {
      "cell_type": "code",
      "execution_count": null,
      "metadata": {
        "id": "AQgRfp_xKpJj"
      },
      "outputs": [],
      "source": [
        "from neo4j import GraphDatabase\n",
        "import pandas as pd\n",
        "import psycopg2"
      ]
    },
    {
      "cell_type": "code",
      "source": [
        "!curl ipecho.net/plain"
      ],
      "metadata": {
        "colab": {
          "base_uri": "https://localhost:8080/"
        },
        "id": "AJct1Q3bMB5Q",
        "outputId": "53febcec-4375-4f4c-edcc-1856c8f65c80"
      },
      "execution_count": null,
      "outputs": [
        {
          "output_type": "stream",
          "name": "stdout",
          "text": [
            "35.230.168.188"
          ]
        }
      ]
    },
    {
      "cell_type": "code",
      "source": [
        "# Define Neo4j connection details\n",
        "neo4j_uri = \"neo4j+s://819248de.databases.neo4j.io\"\n",
        "neo4j_user = \"neo4j\"\n",
        "neo4j_password = \"Ixzg5zFUEnbJ2p-eZ8Lt199u2QyutizkJyjWivjHlhc\"\n",
        "driver = GraphDatabase.driver(neo4j_uri, auth=(neo4j_user, neo4j_password))"
      ],
      "metadata": {
        "id": "r1zpeDtALsGg"
      },
      "execution_count": null,
      "outputs": []
    },
    {
      "cell_type": "code",
      "source": [
        "# Define Postgres connection details\n",
        "Postgres_host = \"34.170.37.217\"\n",
        "Postgres_database = \"Neo4j_db\"\n",
        "Postgres_user = \"student2\"\n",
        "Postgres_password = '$YBO>\"X@D+xNFIKv'"
      ],
      "metadata": {
        "id": "Q_QM3pdrSNHW"
      },
      "execution_count": null,
      "outputs": []
    },
    {
      "cell_type": "code",
      "source": [
        "# Extract data from Neo4j\n",
        "def extract_data():\n",
        "    with driver.session() as session:\n",
        "        query = \"MATCH (c:Customer)-[r:SUBSCRIBES]->(s:Service) RETURN c.id AS customer_id, s.id AS service_id, r.subscription_id AS subscription_id, r.start_date AS start_date, r.end_date AS end_date, r.price AS price\"\n",
        "        result = session.run(query)\n",
        "        data = [record for record in result]\n",
        "        return data"
      ],
      "metadata": {
        "id": "DzMHyWkDTEdG"
      },
      "execution_count": null,
      "outputs": []
    },
    {
      "cell_type": "code",
      "source": [
        "# Data transformation\n",
        "def transform_data(data):\n",
        "    df = pd.DataFrame(data)\n",
        "    print(df.columns)  # print the column names\n",
        "    df['start_date'] = pd.to_datetime(df['start_date'])\n",
        "    df['end_date'] = pd.to_datetime(df['end_date'])\n",
        "    df = df.dropna()\n",
        "    return df"
      ],
      "metadata": {
        "id": "nFvZHjwKUYO2"
      },
      "execution_count": null,
      "outputs": []
    },
    {
      "cell_type": "code",
      "source": [
        "# Load data into Postgres\n",
        "def load_data(df):\n",
        "    conn = psycopg2.connect(\n",
        "    host=\"34.170.37.217\",\n",
        "    database=\"Neo4j_db\",\n",
        "    user=\"student2\",\n",
        "    password=\"$YBO>\\\"X@D+xNFIKv\"\n",
        ")\n",
        "    cursor = conn.cursor()\n",
        "    create_table_query = '''\n",
        "    CREATE TABLE subscriptions (\n",
        "        customer_id INTEGER,\n",
        "        subscription_id INTEGER,\n",
        "        service_id INTEGER,\n",
        "        start_date DATE,\n",
        "        end_date DATE,\n",
        "        price FLOAT\n",
        "    )\n",
        "    '''\n",
        "    cursor.execute(create_table_query)\n",
        "    conn.commit()\n",
        "    for index, row in df.iterrows():\n",
        "        insert_query = f\"INSERT INTO subscriptions (customer_id, subscription_id, service_id, start_date, end_date, price) VALUES ({row['customer_id']}, {row['subscription_id']}, {row['service_id']}, '{row['start_date'].date()}', '{row['end_date'].date()}', {row['price']})\"\n",
        "        cursor.execute(insert_query)\n",
        "        conn.commit()\n",
        "\n",
        "# Call main function\n",
        "def main():\n",
        "  if __name__ == \"__main__\":\n",
        "    main()"
      ],
      "metadata": {
        "id": "aUYiKGr1U2ht"
      },
      "execution_count": null,
      "outputs": []
    },
    {
      "cell_type": "markdown",
      "source": [
        "**Data Pipeline Setup and Execution Guide**\n",
        "\n",
        "This data pipeline is designed to extract data from a Neo4j database, transform it, and load it into a Postgres database. The code is written in Python and uses the neo4j and psycopg2 libraries for database connectivity and pandas for data transformation. I have explained the purpose of each code function through comments.\n",
        "\n",
        "**Data Schema**\n",
        "\n",
        "The data schema used in this pipeline consists of a Customer node and a Service node in a Neo4j database, with a SUBSCRIBERS relationship between them. Each SUBSCRIBERS relationship has a subscription_id, start_date, end_date, and price property.\n",
        "\n",
        "**The data is transformed into a Pandas DataFrame with columns:**\n",
        "\n",
        "customer_id: integer representing the id of the customer\n",
        "service_id: integer representing the id of the service\n",
        "subscription_id: integer representing the id of the subscription\n",
        "start_date: date representing the start date of the subscription\n",
        "end_date: date representing the end date of the subscription\n",
        "price: float representing the price of the subscription\n",
        "The transformed data is then loaded into a Postgres database with a table named subscriptions with the same columns as in the transformed DataFrame.\n",
        "\n",
        "**Transformations**\n",
        "\n",
        "The following transformations are performed on the extracted data:\n",
        "\n",
        "Convert the start_date and end_date columns to datetime format\n",
        "Drop any rows with missing values.\n",
        "\n",
        "**Running the Data Pipeline**\n",
        "\n",
        "Run the main() function to execute the data pipeline.The transformed data should now be loaded into the subscriptions table in the Postgres database."
      ],
      "metadata": {
        "id": "-4mTk84PbRAh"
      }
    }
  ]
}